{
 "cells": [
  {
   "cell_type": "markdown",
   "id": "d9eab9dc",
   "metadata": {},
   "source": [
    "# Making Imports"
   ]
  },
  {
   "cell_type": "code",
   "execution_count": 6,
   "id": "e6df093a",
   "metadata": {},
   "outputs": [
    {
     "name": "stderr",
     "output_type": "stream",
     "text": [
      "2023-10-05 01:33:51.084804: I tensorflow/tsl/cuda/cudart_stub.cc:28] Could not find cuda drivers on your machine, GPU will not be used.\n",
      "2023-10-05 01:33:51.123902: E tensorflow/compiler/xla/stream_executor/cuda/cuda_dnn.cc:9342] Unable to register cuDNN factory: Attempting to register factory for plugin cuDNN when one has already been registered\n",
      "2023-10-05 01:33:51.123945: E tensorflow/compiler/xla/stream_executor/cuda/cuda_fft.cc:609] Unable to register cuFFT factory: Attempting to register factory for plugin cuFFT when one has already been registered\n",
      "2023-10-05 01:33:51.123976: E tensorflow/compiler/xla/stream_executor/cuda/cuda_blas.cc:1518] Unable to register cuBLAS factory: Attempting to register factory for plugin cuBLAS when one has already been registered\n",
      "2023-10-05 01:33:51.131595: I tensorflow/tsl/cuda/cudart_stub.cc:28] Could not find cuda drivers on your machine, GPU will not be used.\n",
      "2023-10-05 01:33:51.132117: I tensorflow/core/platform/cpu_feature_guard.cc:182] This TensorFlow binary is optimized to use available CPU instructions in performance-critical operations.\n",
      "To enable the following instructions: AVX2 FMA, in other operations, rebuild TensorFlow with the appropriate compiler flags.\n",
      "2023-10-05 01:33:52.081343: W tensorflow/compiler/tf2tensorrt/utils/py_utils.cc:38] TF-TRT Warning: Could not find TensorRT\n"
     ]
    }
   ],
   "source": [
    "from tkinter import Tk, Frame, Button, Label, Canvas, CENTER\n",
    "from tkinter.filedialog import askopenfilename\n",
    "from PIL import Image, ImageTk\n",
    "import cv2\n",
    "import numpy as np\n",
    "import os\n",
    "from string import ascii_uppercase\n",
    "from tensorflow.keras.models import load_model"
   ]
  },
  {
   "cell_type": "markdown",
   "id": "f4df2424",
   "metadata": {},
   "source": [
    "# Building the Graphical User Interface"
   ]
  },
  {
   "cell_type": "code",
   "execution_count": 7,
   "id": "2aa0bc63",
   "metadata": {},
   "outputs": [
    {
     "name": "stdout",
     "output_type": "stream",
     "text": [
      "1/1 [==============================] - 0s 113ms/step\n"
     ]
    }
   ],
   "source": [
    "root = Tk()\n",
    "root.configure(background='#7FCDCD')\n",
    "root.resizable(False, False)\n",
    "img = None\n",
    "page_title = \"Handwritten Character Prediction using CNN\"\n",
    "img_path = None\n",
    "category = \"Please Upload an Image\"\n",
    "char_dict = dict(zip([i for i in range(26)], list(ascii_uppercase)))\n",
    "\n",
    "def preprocess_img(img_path, threshold=120):\n",
    "    # Load the image\n",
    "    img = cv2.imread(img_path)\n",
    "    # Convert the image to grayscale\n",
    "    gray = cv2.cvtColor(img, cv2.COLOR_BGR2GRAY)\n",
    "    # Resize the image to 28x28 pixels\n",
    "    resized = cv2.resize(gray, (28, 28), interpolation=cv2.INTER_AREA)\n",
    "    # Invert the colors\n",
    "    inverted = cv2.bitwise_not(resized)\n",
    "    # Removing Noise\n",
    "    inverted[inverted <= threshold] = 0\n",
    "    # Reshaping the array to fit the model architecture\n",
    "    img_arr = inverted.reshape(1, 28, 28, 1)\n",
    "    # Returning the image array\n",
    "    return img_arr\n",
    "\n",
    "def upload_img():\n",
    "    global img, img_path, category\n",
    "    image_filetypes = [\n",
    "        (\"JPG files\", \"*.jpg\"),\n",
    "        (\"JPEG files\", \"*.jpeg\"),\n",
    "        (\"PNG files\", \"*.png\"),\n",
    "        (\"GIF files\", \"*.gif\"),\n",
    "        (\"BMP files\", \"*.bmp\")\n",
    "    ]\n",
    "    img_path = askopenfilename(\n",
    "        title=\"Upload an Image File\",\n",
    "        filetypes=image_filetypes\n",
    "    )\n",
    "    if not img_path:\n",
    "        return\n",
    "    img_open = Image.open(img_path)\n",
    "\n",
    "    # Calculate the aspect ratio of the image\n",
    "    aspect_ratio = img_open.width / img_open.height\n",
    "    # Set the maximum width and height of the canvas\n",
    "    max_width = 400\n",
    "    max_height = 200\n",
    "    # Calculate the new width and height of the image\n",
    "    if img_open.width > max_width or img_open.height > max_height:\n",
    "        if aspect_ratio > 1:\n",
    "            new_width = max_width\n",
    "            new_height = max_width / aspect_ratio\n",
    "        else:\n",
    "            new_width = max_height * aspect_ratio\n",
    "            new_height = max_height\n",
    "    else:\n",
    "        new_width = img_open.width\n",
    "        new_height = img_open.height\n",
    "    # Resize the image\n",
    "    img_open = img_open.resize((int(new_width), int(new_height)), Image.LANCZOS)   \n",
    "    img = ImageTk.PhotoImage(img_open)\n",
    "    \n",
    "    canvas = Canvas(master=image_frame, width=400, height=200)\n",
    "    canvas.grid(row=0, column=1)\n",
    "    canvas.create_image(max_width / 2, max_height / 2, anchor=CENTER, image=img)\n",
    "    \n",
    "    image_array = preprocess_img(img_path)\n",
    "    caps_net = load_model(os.path.join(os.getcwd(), 'CNN', 'CNN.h5'))\n",
    "    \n",
    "    predicted_char = char_dict[caps_net.predict(image_array).argmax()]\n",
    "    category = f\"The predicted character is: {predicted_char}\"\n",
    "    prediction_label['text'] = category\n",
    "\n",
    "# Creating Widgets\n",
    "second_frame = Frame(master=root)\n",
    "second_frame.grid(row=0,column=1)\n",
    "\n",
    "first_frame = Frame(master=root)\n",
    "first_frame.grid(row=0, column=0)\n",
    "\n",
    "prediction_label = Label(master=second_frame, text=category, pady=3, padx=5, borderwidth=3)\n",
    "prediction_label.grid(row=0, column=0, pady=10)\n",
    "\n",
    "image_frame = Frame(master=second_frame, relief='groove', borderwidth=2, width=400, height=200, bg='#8EF0F7')\n",
    "image_frame.grid(row=1, column=0)\n",
    "\n",
    "picture_choose_btn = Button(master=first_frame, text='Click to Upload Picture.', width=20, bg='black', fg='#fff', command=upload_img)\n",
    "picture_choose_btn.grid(row=1, column=0, pady=10)\n",
    "\n",
    "# Customizing the Window\n",
    "root.columnconfigure(0, minsize=100, weight=1)\n",
    "root.rowconfigure(0, minsize=100, weight=1)\n",
    "root.columnconfigure(1, minsize=500, weight=1)\n",
    "root.rowconfigure(0, minsize=500, weight=1)\n",
    "root.geometry(\"720x500\")\n",
    "root.title(page_title)\n",
    "\n",
    "            \n",
    "root.mainloop()\n"
   ]
  },
  {
   "cell_type": "code",
   "execution_count": null,
   "id": "de2ed405",
   "metadata": {},
   "outputs": [],
   "source": []
  }
 ],
 "metadata": {
  "kernelspec": {
   "display_name": "Python 3 (ipykernel)",
   "language": "python",
   "name": "python3"
  },
  "language_info": {
   "codemirror_mode": {
    "name": "ipython",
    "version": 3
   },
   "file_extension": ".py",
   "mimetype": "text/x-python",
   "name": "python",
   "nbconvert_exporter": "python",
   "pygments_lexer": "ipython3",
   "version": "3.11.4"
  }
 },
 "nbformat": 4,
 "nbformat_minor": 5
}
